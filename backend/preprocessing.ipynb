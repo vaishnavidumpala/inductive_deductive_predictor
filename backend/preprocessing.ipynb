{
 "cells": [
  {
   "cell_type": "code",
   "execution_count": 1,
   "id": "dc735617",
   "metadata": {},
   "outputs": [
    {
     "name": "stdout",
     "output_type": "stream",
     "text": [
      "label\n",
      "Inductive    91\n",
      "Deductive    78\n",
      "Name: count, dtype: int64\n",
      "✅ Labeled data saved to 'auto_labeled_responses.csv'\n"
     ]
    }
   ],
   "source": [
    "import pandas as pd\n",
    "\n",
    "# Load csv\n",
    "df = pd.read_csv('D:/inductive_deductive/dataset/inductive_deductive_dataset.csv')\n",
    "\n",
    "# Drop unwanted unnamed columns\n",
    "df = df.loc[:, ~df.columns.str.contains('^Unnamed')]\n",
    "\n",
    "# Define question indices\n",
    "inductive_indices = [0, 2, 4, 6, 8, 9, 12]    # Q1, Q3, Q5, Q7, Q9, Q10, Q13\n",
    "deductive_indices = [1, 3, 5, 7, 10, 11, 13]  # Q2, Q4, Q6, Q8, Q11, Q12, Q14\n",
    "\n",
    "# Map text to scores\n",
    "score_map = {'Never': 1, 'Sometimes': 2, 'Usually': 3, 'Always': 4}\n",
    "df = df.apply(lambda col: col.map(score_map).fillna(0)).astype(int)\n",
    "\n",
    "# Extract question names\n",
    "questions = df.columns.tolist()\n",
    "inductive_qs = [questions[i] for i in inductive_indices]\n",
    "deductive_qs = [questions[i] for i in deductive_indices]\n",
    "\n",
    "# Compute scores\n",
    "df['inductive_score'] = df[inductive_qs].sum(axis=1)\n",
    "df['deductive_score'] = df[deductive_qs].sum(axis=1)\n",
    "\n",
    "# Remove rows where inductive_score equals deductive_score (tie situation)\n",
    "df = df[df['inductive_score'] != df['deductive_score']]\n",
    "\n",
    "# Assign labels\n",
    "def assign_label(row):\n",
    "    if row['inductive_score'] > row['deductive_score']:\n",
    "        return 'Inductive'\n",
    "    else:\n",
    "        return 'Deductive'\n",
    "df['label'] = df.apply(assign_label, axis=1)\n",
    "\n",
    "# Print value counts of the labels to confirm the removal of Hybrid\n",
    "print(df['label'].value_counts())\n",
    "\n",
    "# Save the processed and labeled data to a new CSV\n",
    "df.to_csv('D:/inductive_deductive/backend/auto_labeled_responses.csv', index=False)\n",
    "print(\"✅ Labeled data saved to 'auto_labeled_responses.csv'\")\n"
   ]
  },
  {
   "cell_type": "code",
   "execution_count": null,
   "id": "dbc18f43",
   "metadata": {},
   "outputs": [],
   "source": []
  },
  {
   "cell_type": "code",
   "execution_count": null,
   "id": "c3b3cdcc",
   "metadata": {},
   "outputs": [],
   "source": []
  },
  {
   "cell_type": "code",
   "execution_count": null,
   "id": "14187fa8",
   "metadata": {},
   "outputs": [],
   "source": []
  },
  {
   "cell_type": "markdown",
   "id": "9610d823",
   "metadata": {},
   "source": []
  }
 ],
 "metadata": {
  "kernelspec": {
   "display_name": "Python 3 (ipykernel)",
   "language": "python",
   "name": "python3"
  },
  "language_info": {
   "codemirror_mode": {
    "name": "ipython",
    "version": 3
   },
   "file_extension": ".py",
   "mimetype": "text/x-python",
   "name": "python",
   "nbconvert_exporter": "python",
   "pygments_lexer": "ipython3",
   "version": "3.13.2"
  }
 },
 "nbformat": 4,
 "nbformat_minor": 5
}
